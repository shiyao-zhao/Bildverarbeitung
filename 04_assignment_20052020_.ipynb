{
 "cells": [
  {
   "cell_type": "markdown",
   "metadata": {},
   "source": [
    "# Image Processing SS 20 - Assignment - 04\n",
    "\n",
    "### Deadline is 20.5.2020 at 11:55am\n",
    "\n",
    "Please solve the assignments together with a partner.\n",
    "I will run every notebook. Make sure the code runs through. Select `Kernel` -> `Restart & Run All` to test it.\n",
    "Please strip the output from the cells, either select `Cell` -> `All Output` -> `Clear` or use the `nb_strip_output.py` script / git hook."
   ]
  },
  {
   "cell_type": "code",
   "execution_count": null,
   "metadata": {},
   "outputs": [],
   "source": [
    "# display the plots inside the notebook\n",
    "%matplotlib inline"
   ]
  },
  {
   "cell_type": "code",
   "execution_count": null,
   "metadata": {},
   "outputs": [],
   "source": [
    "import numpy as np\n",
    "import matplotlib.pyplot as plt\n",
    "import pylab\n",
    "import random\n",
    "from io import BytesIO\n",
    "from PIL import Image\n",
    "\n",
    "pylab.rcParams['figure.figsize'] = (12, 12)   # This makes the plot bigger"
   ]
  },
  {
   "cell_type": "markdown",
   "metadata": {},
   "source": [
    "# Exercise 1 - Qualify sharpness and noise - 5 Points\n",
    "\n",
    "Determine the noise and sharpness in the images. Plot image number vs noise\n",
    "\n",
    "Please download sample picture from [here](http://sipi.usc.edu/database/misc.zip) and place them next to your assignment (inside the misc folder)."
   ]
  },
  {
   "cell_type": "code",
   "execution_count": null,
   "metadata": {},
   "outputs": [],
   "source": [
    "# Load the pictures here\n",
    "sample_images = []\n",
    "direc = 'misc/' # directory of the sample pictures relative to your notebook \n",
    "for number in [1,3,5,6]:\n",
    "    sample_images.append(\n",
    "        np.array(Image.open(direc+'4.2.0'+str(number)+'.tiff'))\n",
    "    )\n",
    "for name in ['house']:\n",
    "    sample_images.append(\n",
    "        np.array(Image.open(direc+name+'.tiff'))\n",
    "    )"
   ]
  },
  {
   "cell_type": "code",
   "execution_count": null,
   "metadata": {},
   "outputs": [],
   "source": [
    "def qualify_noise(img):\n",
    "    \"\"\"Qualify the noise based on the std of a gaussian model.\n",
    "       You may find a window that is contant in the images.\n",
    "    \"\"\"\n",
    "    # your code here\n",
    "    img = img[:,:,0]*0.299 + img[:,:,1]*0.587 + img[:,:,2]*0.114 #convert RGB to Grey\n",
    "    var=[]\n",
    "    hoehe = img.shape[0] \n",
    "    laenge = img.shape[1]\n",
    "    size_search_window=11\n",
    "    width_search=size_search_window//2\n",
    "    search_step=4\n",
    "    Mittelpunkt_x = np.array(range(width_search-1,hoehe-width_search,search_step)) #Koordinaten von Mittelpunkten\n",
    "    Mittelpunkt_y = np.array(range(width_search-1,laenge-width_search,search_step))\n",
    "    for i in  range(len(Mittelpunkt_x)):\n",
    "        for j in  range(len(Mittelpunkt_y)) :\n",
    "            search_fenster = img[Mittelpunkt_x[i]-(width_search-1):Mittelpunkt_x[i] + width_search + 1,Mittelpunkt_y[j]-(width_search-1):Mittelpunkt_y[j]+width_search+1]\n",
    "            fenster_var=np.var(search_fenster)\n",
    "            var.append(fenster_var)             #using 11*11 window to find the minimal variance\n",
    "    return np.sqrt(min(var))\n",
    "\n",
    "plt.bar(range(len(sample_images)), [qualify_noise(i) for i in sample_images])"
   ]
  },
  {
   "cell_type": "code",
   "execution_count": null,
   "metadata": {},
   "outputs": [],
   "source": [
    "def qualify_sharpness(img):\n",
    "    \"\"\"Qualify the sharpness based on the average pixel differences.\"\"\"\n",
    "    # your code here\n",
    "    img_grey = img[:,:,0]*0.299 + img[:,:,1]*0.587 + img[:,:,2]*0.114 #convert RGB to Grey\n",
    "    diff_x=np.zeros_like(img)\n",
    "    diff_y=np.zeros_like(img)\n",
    "    for i in range(img_grey.shape[0]-1):\n",
    "        for j in range(img_grey.shape[1]-1):\n",
    "            diff_x[i,j]=img_grey[i+1,j]-img_grey[i,j]\n",
    "            diff_y[i,j]=img_grey[i,j+1]-img_grey[i,j]\n",
    "    return np.mean(np.sqrt(diff_x**2+diff_y**2))\n",
    "plt.bar(range(len(sample_images)), [qualify_sharpness(i) for i in sample_images])"
   ]
  },
  {
   "cell_type": "markdown",
   "metadata": {},
   "source": [
    "Does the result match your expectations? If not what processing step can be done?\n",
    "\n",
    "For noise qualification : for a more accurate result,we have to reduce the sliding step, which will lead to low efficiency. So better strategy is using gradient descent to find the minimal Variance instead of search through the whole image.\n",
    "\n",
    "For sharpness qualification : the distinction of first order of difference of image is not significant. Second Order of difference can be considered. "
   ]
  },
  {
   "cell_type": "markdown",
   "metadata": {},
   "source": [
    "# Exercise 2 - SSIM JPEG Compression - 5 Points"
   ]
  },
  {
   "cell_type": "code",
   "execution_count": null,
   "metadata": {},
   "outputs": [],
   "source": [
    "def jpeg_enocde(img, quality):\n",
    "    pil_img = Image.fromarray(img)\n",
    "    buffer = BytesIO()\n",
    "    pil_img.save(buffer, \"JPEG\", quality=quality)\n",
    "    return buffer\n",
    "\n",
    "def jpeg_decode(buffer):\n",
    "    img = Image.open(buffer)\n",
    "    return np.array(img)\n",
    "\n",
    "def jpeg_quality_filter(img, quality):\n",
    "    as_jpeg = jpeg_enocde(img, quality)\n",
    "    return jpeg_decode(as_jpeg)"
   ]
  },
  {
   "cell_type": "code",
   "execution_count": null,
   "metadata": {},
   "outputs": [],
   "source": [
    "images_for_jpeg = sample_images[2::]\n",
    "len(images_for_jpeg)"
   ]
  },
  {
   "cell_type": "code",
   "execution_count": null,
   "metadata": {},
   "outputs": [],
   "source": [
    "images10 = [jpeg_quality_filter(img, 10) for img in images_for_jpeg]\n",
    "images50 = [jpeg_quality_filter(img, 50) for img in images_for_jpeg]\n",
    "images80 = [jpeg_quality_filter(img, 80) for img in images_for_jpeg]"
   ]
  },
  {
   "cell_type": "code",
   "execution_count": null,
   "metadata": {
    "scrolled": false
   },
   "outputs": [],
   "source": [
    "from scipy.ndimage import gaussian_filter\n",
    "\n",
    "def ssim(img, filtered_img):\n",
    "\n",
    "    K1 = 0.01\n",
    "    K2 = 0.03\n",
    "    sigma = 1.5\n",
    "    \n",
    "    #using gaussian sliding windows \n",
    "    filter_func = gaussian_filter\n",
    "    filter_args = {'sigma': sigma}\n",
    "\n",
    "\n",
    "    # ndimage filters need floating point data\n",
    "    X=img\n",
    "    Y=filtered_img\n",
    "    X = X.astype(np.float64)\n",
    "    Y = Y.astype(np.float64)\n",
    "    \n",
    "    # compute (weighted) means\n",
    "    mux = filter_func(X, **filter_args)\n",
    "    muy = filter_func(Y, **filter_args)\n",
    "\n",
    "    # compute (weighted) variances and covariances\n",
    "    muxx = filter_func(X * X, **filter_args)\n",
    "    muyy = filter_func(Y * Y, **filter_args)\n",
    "    # calculate E(XY)\n",
    "    muxy = filter_func(X * Y, **filter_args)\n",
    "    # sigma_x^2 = E(x^2)-E(x)^2\n",
    "    vax = muxx - mux * mux\n",
    "    # sigma_y^2 = E(y^2)-E(y)^2\n",
    "    vay = muyy - muy * muy\n",
    "    # cov(x,y) = E(xy)-E(x)E(y)\n",
    "    vaxy = muxy - mux * muy\n",
    "    \n",
    "    dynamic_range=255\n",
    "    # Formula from the paper\n",
    "    C1 = (K1 * dynamic_range) ** 2\n",
    "    C2 = (K2 * dynamic_range) ** 2\n",
    "    \n",
    "    # Formula of SSIM\n",
    "    S=((2 * mux * muy + C1)*(2 * vaxy + C2))/((mux** 2 + muy ** 2 + C1)*(vax + vay + C2))\n",
    "\n",
    "    return S.mean()\n",
    "\n",
    "for i, img in enumerate(images_for_jpeg):\n",
    "    print(i)\n",
    "    compressed_images = [images10[i], images50[i], images80[i]]\n",
    "    plt.bar(range(len(compressed_images)),\n",
    "             [ssim(img, comp) for comp in compressed_images])\n",
    "    plt.show()\n",
    "\n"
   ]
  },
  {
   "cell_type": "markdown",
   "metadata": {},
   "source": [
    "The Gaussian Sliding Windows is referenced from :https://github.com/elifesciences-publications/Bhatia_et_al_2019/blob/master/code/external/scikit-image-0.14.1/skimage/measure/_structural_similarity.py"
   ]
  },
  {
   "cell_type": "code",
   "execution_count": null,
   "metadata": {},
   "outputs": [],
   "source": [
    "#we are not sure, whether we can import other module to solve this problem,so we write a backup \n",
    "\"\"\"\"def ssim(img, filtered_img):\n",
    "   \n",
    "    # your code\n",
    "    img = img[:,:,0]*0.299 + img[:,:,1]*0.587 + img[:,:,2]*0.114 #convert RGB to Grey\n",
    "    filtered_img=filtered_img[:,:,0]*0.299 + filtered_img[:,:,1]*0.587 + filtered_img[:,:,2]*0.114 #convert RGB to Grey\n",
    "    k1=0.01\n",
    "    k2=0.03\n",
    "    L=255\n",
    "    c1=(k1*255)**2\n",
    "    c2=(k2*255)**2\n",
    "    SSIM=[]\n",
    "    hoehe = img.shape[0] \n",
    "    laenge = img.shape[1]\n",
    "    size_search_window=11\n",
    "    width_search=size_search_window//2\n",
    "    Mittelpunkt_x = np.array(range(width_search-1,hoehe-width_search,size_search_window)) #Koordinaten von Mittelpunkten\n",
    "    Mittelpunkt_y = np.array(range(width_search-1,laenge-width_search,size_search_window))\n",
    "    for i in  range(len(Mittelpunkt_x)):\n",
    "        for j in  range(len(Mittelpunkt_y)) :\n",
    "            search_fenster_1 = img[Mittelpunkt_x[i]-(width_search-1):Mittelpunkt_x[i] + width_search + 1,Mittelpunkt_y[j]-(width_search-1):Mittelpunkt_y[j]+width_search+1]\n",
    "            search_fenster_2 = filtered_img[Mittelpunkt_x[i]-(width_search-1):Mittelpunkt_x[i] + width_search + 1,Mittelpunkt_y[j]-(width_search-1):Mittelpunkt_y[j]+width_search+1]\n",
    "            mux=np.mean(search_fenster_1)\n",
    "            muy=np.mean(search_fenster_2)\n",
    "            muxy=np.mean(search_fenster_2*search_fenster_1)\n",
    "            sigmaxy=muxy-mux*muy\n",
    "            #sigmaxy=np.cov(search_fenster_1,search_fenster_2)\n",
    "            sigmax=np.var(search_fenster_1)\n",
    "            sigmay=np.var(search_fenster_2)\n",
    "            A1, A2, B1, B2 = ((2 *mux * muy + c1,\n",
    "                       2 * sigmaxy + c2,\n",
    "                       mux ** 2 + muy ** 2 + c1,\n",
    "                       sigmax + sigmay + c2))\n",
    "            D = B1 * B2\n",
    "            S = (A1 * A2) / D\n",
    "            #ssim=(2*mux*muy+c1)*(2*sigmaxy+c2)/((mux*2+muy**2+c1)*(sigmax**2+sigmay**2+c2))\n",
    "            SSIM.append(S)\n",
    "    return np.mean(SSIM)\n",
    "\n",
    "for i, img in enumerate(images_for_jpeg):\n",
    "    print(i)\n",
    "    compressed_images = [images10[i], images50[i], images80[i]]\n",
    "    plt.bar(range(len(compressed_images)),\n",
    "             [ssim(img, comp) for comp in compressed_images])\n",
    "    plt.show()"
   ]
  }
 ],
 "metadata": {
  "kernelspec": {
   "display_name": "Python 3",
   "language": "python",
   "name": "python3"
  },
  "language_info": {
   "codemirror_mode": {
    "name": "ipython",
    "version": 3
   },
   "file_extension": ".py",
   "mimetype": "text/x-python",
   "name": "python",
   "nbconvert_exporter": "python",
   "pygments_lexer": "ipython3",
   "version": "3.7.3"
  }
 },
 "nbformat": 4,
 "nbformat_minor": 1
}
