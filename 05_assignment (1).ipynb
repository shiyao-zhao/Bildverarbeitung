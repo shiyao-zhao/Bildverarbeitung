{
 "cells": [
  {
   "cell_type": "markdown",
   "metadata": {},
   "source": [
    "# Image Processing SS 20 - Assignment - 05\n",
    "\n",
    "### Deadline is 27.5.2020 at 11:55am\n",
    "\n",
    "Please solve the assignments together with a partner.\n",
    "I will run every notebook. Make sure the code runs through. Select `Kernel` -> `Restart & Run All` to test it.\n",
    "Please strip the output from the cells, either select `Cell` -> `All Output` -> `Clear` or use the `nb_strip_output.py` script / git hook."
   ]
  },
  {
   "cell_type": "code",
   "execution_count": null,
   "metadata": {},
   "outputs": [],
   "source": [
    "# display the plots inside the notebook\n",
    "%matplotlib inline"
   ]
  },
  {
   "cell_type": "code",
   "execution_count": null,
   "metadata": {},
   "outputs": [],
   "source": [
    "import numpy as np\n",
    "import matplotlib.pyplot as plt\n",
    "import pylab\n",
    "from skimage.data import chelsea\n",
    "from skimage.color import rgb2gray\n",
    "\n",
    "import random\n",
    "from io import BytesIO\n",
    "    \n",
    "from PIL import Image\n",
    "import itertools\n",
    "\n",
    "pylab.rcParams['figure.figsize'] = (12, 8)   # This makes the plot bigger"
   ]
  },
  {
   "cell_type": "markdown",
   "metadata": {},
   "source": [
    "# Exercise 1 - Filters - 5 Points\n",
    "\n",
    "Implement and apply the filters below to noisy images. Plot the noisy image vs the filtered one"
   ]
  },
  {
   "cell_type": "code",
   "execution_count": null,
   "metadata": {},
   "outputs": [],
   "source": [
    "img = rgb2gray(chelsea() / 255.)\n",
    "img.shape"
   ]
  },
  {
   "cell_type": "code",
   "execution_count": null,
   "metadata": {},
   "outputs": [],
   "source": [
    "def salt_peper(img, p):\n",
    "    peper_mask = np.random.binomial(1, p, img.shape).astype(np.bool)\n",
    "    salt_mask = np.random.binomial(1, p, img.shape).astype(np.bool)\n",
    "    img_noise = img.copy()\n",
    "    img_noise[peper_mask] = 0\n",
    "    img_noise[salt_mask] = 1\n",
    "    return img_noise\n",
    "\n",
    "salt_peper_noises = [0.01, 0.03, 0.1]\n",
    "imgs_salt_peper = [salt_peper(img, p) for p in salt_peper_noises]\n",
    "for img_salt_peper in imgs_salt_peper:\n",
    "    plt.imshow(img_salt_peper, cmap='gray')\n",
    "    plt.show()"
   ]
  },
  {
   "cell_type": "code",
   "execution_count": null,
   "metadata": {},
   "outputs": [],
   "source": [
    "def gaussian_noise(img, std):\n",
    "    return np.clip(img + np.random.normal(0, std, img.shape), 0, 1)\n",
    "\n",
    "gaussian_noises = (0.05, 0.10, 0.2)\n",
    "imgs_gaussian_noise = [gaussian_noise(img, s) for s in gaussian_noises]\n",
    "for img_gaussian in imgs_gaussian_noise:\n",
    "    plt.imshow(img_gaussian, cmap='gray')\n",
    "    plt.show()"
   ]
  },
  {
   "cell_type": "code",
   "execution_count": null,
   "metadata": {},
   "outputs": [],
   "source": [
    "# implement the filters:\n",
    "\n",
    "def arithmetic_mean(img):\n",
    "    win_size=3\n",
    "    height, width = img.shape\n",
    "    edge=int((win_size-1)/2)\n",
    "    for i in range(edge,height-edge):\n",
    "        for j in range(edge,width-edge):\n",
    "            img[i, j] = np.mean(img[i - edge:i + edge + 1, j - edge:j + edge + 1])\n",
    "    return img\n",
    "\n",
    "def geometric_mean(img):\n",
    "    win_size=3\n",
    "    height, width = img.shape\n",
    "    edge=int((win_size-1)/2)\n",
    "    for i in range(edge,height-edge):\n",
    "        for j in range(edge,width-edge):\n",
    "            img[i, j] = (np.prod(img[i - edge:i + edge + 1, j - edge:j + edge + 1]))**(1.0/9)\n",
    "    return img\n",
    "\n",
    "def contraharmoic_mean(img, q=None):\n",
    "    # Your need to select the q yourself\n",
    "    if q==None:\n",
    "        q=0\n",
    "    win_size=3\n",
    "    height, width = img.shape\n",
    "    edge=int((win_size-1)/2)\n",
    "    for i in range(edge,height-edge):\n",
    "        for j in range(edge,width-edge):\n",
    "            img[i, j] = np.sum(img[i - edge:i + edge + 1, j - edge:j + edge + 1]**(q+1))/np.sum(img[i - edge:i + edge + 1, j - edge:j + edge + 1]**q)\n",
    "    return img\n",
    "def AdaptProcess_mean(img, i, j, minSize, maxSize):\n",
    "    filter_size = minSize\n",
    "    kernelSize = filter_size // 2\n",
    "    img_kernel = img[i-kernelSize:i+kernelSize+1, j-kernelSize:j+kernelSize+1]\n",
    "    minPix = np.min(img_kernel)\n",
    "    maxPix = np.max(img_kernel)\n",
    "    meanPix = np.mean(img_kernel)\n",
    "    zxy = img[i,j]\n",
    "\n",
    "    if (meanPix > minPix) and (meanPix < maxPix):\n",
    "        if (zxy > minPix) and (zxy < maxPix):\n",
    "            return zxy\n",
    "        else:\n",
    "            return meanPix\n",
    "    else:\n",
    "        filter_size = filter_size + 2\n",
    "        if filter_size <= maxSize:\n",
    "            return AdaptProcess_mean(img, i, j, filter_size, maxSize)\n",
    "        else:\n",
    "            return meanPix\n",
    "def adaptive_mean(img,minSize=3,maxSize=7):\n",
    "    height, width = img.shape\n",
    "    edge=int((maxSize-1)/2)\n",
    "    for n in range(edge,height-edge):\n",
    "        for m in range(edge,width-edge):\n",
    "            img[n,m] = AdaptProcess_mean(img, n, m, minSize, maxSize)\n",
    "    return img\n",
    "\n",
    "def AdaptProcess_median(img, i, j, minSize, maxSize):\n",
    "    filter_size = minSize\n",
    "    kernelSize = filter_size // 2\n",
    "    img_kernel = img[i-kernelSize:i+kernelSize+1, j-kernelSize:j+kernelSize+1]\n",
    "    minPix = np.min(img_kernel)\n",
    "    maxPix = np.max(img_kernel)\n",
    "    medPix = np.median(img_kernel)\n",
    "    zxy = img[i,j]\n",
    "\n",
    "    if (medPix > minPix) and (medPix < maxPix):\n",
    "        if (zxy > minPix) and (zxy < maxPix):\n",
    "            return zxy\n",
    "        else:\n",
    "            return medPix\n",
    "    else:\n",
    "        filter_size = filter_size + 2\n",
    "        if filter_size <= maxSize:\n",
    "            return AdaptProcess_median(img, i, j, filter_size, maxSize)\n",
    "        else:\n",
    "            return medPix\n",
    "def adaptive_median(img,minSize=3,maxSize=7):\n",
    "    height, width = img.shape\n",
    "    edge=int((maxSize-1)/2)\n",
    "    for n in range(edge,height-edge):\n",
    "        for m in range(edge,width-edge):\n",
    "            img[n,m] = AdaptProcess_median(img, n, m, minSize, maxSize)\n",
    "    return img"
   ]
  },
  {
   "cell_type": "code",
   "execution_count": null,
   "metadata": {},
   "outputs": [],
   "source": [
    "filters = [arithmetic_mean, geometric_mean, contraharmoic_mean, \n",
    "           adaptive_mean, adaptive_median]\n",
    "for filter in filters:\n",
    "    for sp, img_sp in zip(salt_peper_noises, imgs_salt_peper):\n",
    "        plt.suptitle(filter.__name__ + \", salt peper noise: {}\".format(sp))\n",
    "        plt.subplot(221)\n",
    "        plt.imshow(img_sp, cmap='gray')\n",
    "        plt.subplot(222)\n",
    "        plt.imshow(filter(img_sp.copy()), cmap='gray')\n",
    "        plt.show()\n"
   ]
  },
  {
   "cell_type": "code",
   "execution_count": null,
   "metadata": {},
   "outputs": [],
   "source": [
    "for filter in filters:\n",
    "    for gn, img_gn in zip(gaussian_noises, imgs_gaussian_noise):\n",
    "        plt.suptitle(filter.__name__ + \", gaussian noise: {}\".format(gn))\n",
    "        plt.subplot(221)\n",
    "        plt.imshow(img_gn, cmap='gray')\n",
    "        plt.subplot(222)\n",
    "        plt.imshow(filter(img_gn.copy()), cmap='gray')\n",
    "        plt.show()"
   ]
  },
  {
   "cell_type": "markdown",
   "metadata": {},
   "source": [
    "# Exercise 2 - Sharpening - 5 Points\n",
    "\n",
    "Sharpen the image `img_blurry`. You need to implement the `sharp_laplacian` and `unsharp_masking` functions. You might\n",
    "consider some processing steps before sharpening."
   ]
  },
  {
   "cell_type": "code",
   "execution_count": null,
   "metadata": {},
   "outputs": [],
   "source": [
    "from skimage.filters import gaussian,laplace"
   ]
  },
  {
   "cell_type": "code",
   "execution_count": null,
   "metadata": {},
   "outputs": [],
   "source": [
    "img = rgb2gray(chelsea() / 255.)\n",
    "img_blurry = gaussian_noise(gaussian(img , 1.6), 0.07)\n",
    "plt.imshow(img_blurry, cmap='gray')\n",
    "np.amax(img_blurry), np.amin(img_blurry)"
   ]
  },
  {
   "cell_type": "code",
   "execution_count": null,
   "metadata": {},
   "outputs": [],
   "source": [
    "import scipy.ndimage.filters as filters\n",
    "def sharp_laplacian(img):\n",
    "    \"\"\"Perform sharpening with a laplacian filter\"\"\"\n",
    "    # your code here\n",
    "    img=img.copy()\n",
    "    img=contraharmoic_mean(img,0) #get rid of the noise\n",
    "    img_ori=img.copy()\n",
    "    #La_kernel = np.ones((3,3))*(-1)\n",
    "    #La_kernel[1,1] = 8\n",
    "    La_kernel=np.array([[0,1,0],[1,-4,1],[0,1,0]])\n",
    "    la_img=filters.convolve(img,La_kernel)  #convolve with the Laplacian Kernel\n",
    "    Sharpen_factor=2  #Sharpening factor\n",
    "    la_img= la_img*Sharpen_factor  #Scale the filter\n",
    "    out=img_ori-la_img  #Sharpening\n",
    "    out=np.clip(out,0,1) #constrain the pixel value between 0 and 1\n",
    "    return out\n",
    "    \n",
    "\n",
    "def unsharp_masking(img):\n",
    "    \"\"\"Perform sharpening by unsharp masking\"\"\"\n",
    "    # your code here\n",
    "    a=1  #factor\n",
    "    img_ori=img.copy()\n",
    "    img_ori=contraharmoic_mean(img,1)  #get rid of the noise\n",
    "    img_blur=gaussian(img_ori, 1.6)  #Blur the image\n",
    "    img_sharp=img_ori-img_blur  # get the unsharp mask\n",
    "    return img_ori+a*img_sharp #sharpen the image"
   ]
  },
  {
   "cell_type": "code",
   "execution_count": null,
   "metadata": {},
   "outputs": [],
   "source": [
    "plt.imshow(sharp_laplacian(img_blurry), cmap='gray')\n",
    "plt.show()"
   ]
  },
  {
   "cell_type": "code",
   "execution_count": null,
   "metadata": {},
   "outputs": [],
   "source": [
    "plt.imshow(unsharp_masking(img_blurry), cmap='gray')\n",
    "plt.show()"
   ]
  },
  {
   "cell_type": "code",
   "execution_count": null,
   "metadata": {},
   "outputs": [],
   "source": []
  }
 ],
 "metadata": {
  "kernelspec": {
   "display_name": "Python 3",
   "language": "python",
   "name": "python3"
  },
  "language_info": {
   "codemirror_mode": {
    "name": "ipython",
    "version": 3
   },
   "file_extension": ".py",
   "mimetype": "text/x-python",
   "name": "python",
   "nbconvert_exporter": "python",
   "pygments_lexer": "ipython3",
   "version": "3.7.3"
  }
 },
 "nbformat": 4,
 "nbformat_minor": 1
}
