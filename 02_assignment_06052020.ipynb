{
 "cells": [
  {
   "cell_type": "markdown",
   "metadata": {},
   "source": [
    "# Image Processing SS 20 - Assignment - 02\n",
    "\n",
    "### Deadline is 6.5.2020 at 11:55am\n",
    "\n",
    "Please solve the assignments together with a partner.\n",
    "I will run every notebook. Make sure the code runs through. Select `Kernel` -> `Restart & Run All` to test it.\n"
   ]
  },
  {
   "cell_type": "markdown",
   "metadata": {},
   "source": [
    "# Exercise 1 - 10 Points\n",
    "\n",
    "Implement affine transformation with [bicubic interpolation](https://en.wikipedia.org/wiki/Bicubic_interpolation).\n",
    "Implement the functions `affine_transformation` and `bicubic_interpolation`. Apply some affine transformation of your choice and smooth the output using your bicubic interpolation."
   ]
  },
  {
   "cell_type": "code",
   "execution_count": null,
   "metadata": {},
   "outputs": [],
   "source": [
    "# display the plots inside the notebook\n",
    "%matplotlib inline"
   ]
  },
  {
   "cell_type": "code",
   "execution_count": null,
   "metadata": {},
   "outputs": [],
   "source": [
    "import numpy as np\n",
    "import matplotlib.pyplot as plt\n",
    "import pylab\n",
    "pylab.rcParams['figure.figsize'] = (12, 12)   # This makes the plot bigger"
   ]
  },
  {
   "cell_type": "markdown",
   "metadata": {},
   "source": [
    "The [skimage](http://scikit-image.org/) library comes with multiple useful test images.  Let's start with an image of an astronaut. "
   ]
  },
  {
   "cell_type": "code",
   "execution_count": null,
   "metadata": {},
   "outputs": [],
   "source": [
    "from skimage.data import astronaut\n",
    "from skimage.color import rgb2gray"
   ]
  },
  {
   "cell_type": "code",
   "execution_count": null,
   "metadata": {},
   "outputs": [],
   "source": [
    "# We use a gray image. All the algorithms should work with color images too.\n",
    "img = rgb2gray(astronaut() / 255.)\n",
    "plt.imshow(img, cmap='gray')\n",
    "plt.show()"
   ]
  },
  {
   "cell_type": "code",
   "execution_count": null,
   "metadata": {},
   "outputs": [],
   "source": [
    "def derive_y(image):\n",
    "    \"\"\"Computes the derivative of the image w.r.t the y coordinate\"\"\"\n",
    "    derived_image = np.zeros_like(image)\n",
    "    for x in range(image.shape[0]):\n",
    "        for y in range(image.shape[1]):\n",
    "            if y + 1 < image.shape[1] and y - 1 > 0:\n",
    "                derived_image[x,y] = (image[x, y + 1] - image[x, y - 1]) / 2.0\n",
    "    return derived_image\n",
    "\n",
    "def derive_x(image):\n",
    "    \"\"\"Computes the derivative of the image w.r.t the x coordinate\"\"\"\n",
    "    derived_image = np.zeros_like(image)\n",
    "    for x in range(image.shape[0]):\n",
    "        for y in range(image.shape[1]):\n",
    "            if x + 1 < image.shape[1] and x - 1 > 0:\n",
    "                derived_image[x,y] = (image[x + 1, y] - image[x - 1, y]) / 2.0\n",
    "    return derived_image"
   ]
  },
  {
   "cell_type": "code",
   "execution_count": null,
   "metadata": {},
   "outputs": [],
   "source": [
    "dx_img = derive_x(img)\n",
    "dy_img = derive_y(img)\n",
    "dxy_img = derive_x(dy_img)"
   ]
  },
  {
   "cell_type": "code",
   "execution_count": null,
   "metadata": {},
   "outputs": [],
   "source": [
    "plt.figure(figsize=(18, 12))\n",
    "plt.subplot(131)\n",
    "plt.imshow(img, cmap='gray')\n",
    "plt.subplot(132)\n",
    "plt.imshow(dx_img, cmap='gray')\n",
    "plt.subplot(133)\n",
    "plt.imshow(dy_img, cmap='gray')\n",
    "plt.show()"
   ]
  },
  {
   "cell_type": "markdown",
   "metadata": {
    "pycharm": {
     "name": "#%% md\n"
    }
   },
   "source": [
    "Here are some sample affine transformations to be used later on"
   ]
  },
  {
   "cell_type": "code",
   "execution_count": null,
   "metadata": {},
   "outputs": [],
   "source": [
    "T_scale = np.array([\n",
    "    [0.75, 0, 0],\n",
    "    [0, 0.75, 0],\n",
    "    [0, 0, 1],\n",
    "])"
   ]
  },
  {
   "cell_type": "code",
   "execution_count": null,
   "metadata": {},
   "outputs": [],
   "source": [
    "T_affine = np.array([\n",
    "    [1, 0.3, 0],\n",
    "    [0, 1, 0],\n",
    "    [0, 0, 1],\n",
    "])"
   ]
  },
  {
   "cell_type": "code",
   "execution_count": null,
   "metadata": {},
   "outputs": [],
   "source": [
    "# you can use this function to invert the matricies\n",
    "np.linalg.inv(T_scale)"
   ]
  },
  {
   "cell_type": "code",
   "execution_count": null,
   "metadata": {},
   "outputs": [],
   "source": [
    "def affine_transformation(img, matrix):\n",
    "    # your code here\n",
    "    # apply bicubic interpolation\n",
    "    trans_image = np.zeros_like(img)\n",
    "    for x in range(img.shape[0]):\n",
    "        for y in range(img.shape[1]):\n",
    "            [k,l]=np.dot(np.linalg.inv(matrix),np.array([x,y,1]))[:2]\n",
    "            if k+1<img.shape[1]and k-1>0 and l+1<img.shape[1]and l-1>0:\n",
    "                trans_image[x,y] = bicubic_interpolation(img ,[k,l]) \n",
    "    return trans_image"
   ]
  },
  {
   "cell_type": "code",
   "execution_count": null,
   "metadata": {},
   "outputs": [],
   "source": [
    " #if np.dot(np.linalg.inv(matrix),np.array([x,y,1]))[1] < img.shape[1] and y - 1 > 0:"
   ]
  },
  {
   "cell_type": "code",
   "execution_count": null,
   "metadata": {},
   "outputs": [],
   "source": [
    "def bicubic_interpolation(img, indicies):\n",
    "        # your code here\n",
    "        n,m=indicies\n",
    "        i,j=np.array(indicies).astype(int)\n",
    "        n=n-i\n",
    "        m=m-j\n",
    "        A1=np.array([[1,0,0,0],[0,0,1,0],[-3,3,-2,-1],[2,-2,1,1]])\n",
    "        A2=np.array([[1,0,-3,2],[0,0,3,-2],[0,1,-2,1],[0,0,-1,1]])\n",
    "        f=np.array([[img[i,j], img[i,j+1], dy_img[i,j], dy_img[i,j+1]],\n",
    "                    [img[i+1,j], img[i+1,j+1], dy_img[i+1,j], dy_img[i+1,j+1]],\n",
    "                    [dx_img[i,j], dx_img[i,j+1], dxy_img[i,j], dxy_img[i,j+1]],\n",
    "                    [dx_img[i+1,j], dx_img[i+1,j+1], dxy_img[i+1,j], dxy_img[i+1,j+1]]])\n",
    "        alpha_matrix=np.linalg.multi_dot([A1,f,A2])\n",
    "        Y=np.array([1,m,m**2,m**3])\n",
    "        X=np.array([1,n,n**2,n**3])           \n",
    "        return np.linalg.multi_dot([X,alpha_matrix,Y])\n",
    "    "
   ]
  },
  {
   "cell_type": "code",
   "execution_count": null,
   "metadata": {},
   "outputs": [],
   "source": [
    "img_scale = affine_transformation(img, T_scale)\n",
    "img_affine = affine_transformation(img, T_affine)"
   ]
  },
  {
   "cell_type": "code",
   "execution_count": null,
   "metadata": {},
   "outputs": [],
   "source": [
    "plt.imshow(img_scale, cmap='gray')\n",
    "plt.show()"
   ]
  },
  {
   "cell_type": "code",
   "execution_count": null,
   "metadata": {
    "pycharm": {
     "name": "#%%\n"
    }
   },
   "outputs": [],
   "source": [
    "plt.imshow(img_affine, cmap='gray')\n",
    "plt.show()\n"
   ]
  },
  {
   "cell_type": "code",
   "execution_count": null,
   "metadata": {},
   "outputs": [],
   "source": []
  }
 ],
 "metadata": {
  "kernelspec": {
   "display_name": "Python 3",
   "language": "python",
   "name": "python3"
  },
  "language_info": {
   "codemirror_mode": {
    "name": "ipython",
    "version": 3
   },
   "file_extension": ".py",
   "mimetype": "text/x-python",
   "name": "python",
   "nbconvert_exporter": "python",
   "pygments_lexer": "ipython3",
   "version": "3.7.3"
  }
 },
 "nbformat": 4,
 "nbformat_minor": 1
}
