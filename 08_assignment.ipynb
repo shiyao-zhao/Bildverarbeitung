{
 "cells": [
  {
   "cell_type": "markdown",
   "metadata": {},
   "source": [
    "# Image Processing SS 20 - Assignment - 08\n",
    "\n",
    "### Deadline is 17.6.2020 at 11:55am\n",
    "\n",
    "Please solve the assignments together with a partner.\n",
    "I will run every notebook. Make sure the code runs through. Select `Kernel` -> `Restart & Run All` to test it.\n",
    "Please strip the output from the cells, either select `Cell` -> `All Output` -> `Clear` or use the `nb_strip_output.py` script / git hook."
   ]
  },
  {
   "cell_type": "code",
   "execution_count": null,
   "metadata": {},
   "outputs": [],
   "source": [
    "# display the plots inside the notebook\n",
    "%matplotlib inline"
   ]
  },
  {
   "cell_type": "code",
   "execution_count": null,
   "metadata": {},
   "outputs": [],
   "source": [
    "import numpy as np\n",
    "import matplotlib.pyplot as plt\n",
    "import pylab\n",
    "from skimage.data import chelsea\n",
    "from skimage.color import rgb2gray\n",
    "from numpy.fft import fft2 as numpy_fft2, ifft2 as numpy_ifft2\n",
    "\n",
    "pylab.rcParams['figure.figsize'] = (12, 12)   # This makes the plot bigger"
   ]
  },
  {
   "cell_type": "markdown",
   "metadata": {},
   "source": [
    "# Exercise 1 - 2D DCT - 4 Points\n",
    "Transform a picture with 2D DCT (discrete cosine transform), which you must implement manually using DCT-II.\n",
    "For the 2D-DCT, perform two 1D-DCT-transformations. Therefore, implement a method which returns a normalized DCT-II\n",
    "matrix. Plot a normalized 16x16 DCT-II-matrix (with colors reflecting the values in the matrix)."
   ]
  },
  {
   "cell_type": "code",
   "execution_count": null,
   "metadata": {},
   "outputs": [],
   "source": [
    "def dct_matrix(n):\n",
    "    # your code here\n",
    "    C = np.zeros((n,n))\n",
    "    C[0, :] = 1 * np.sqrt(1/n)\n",
    "    N=n\n",
    "    for i in range(1, n):\n",
    "         for j in range(n):\n",
    "                C[i, j] = np.cos(np.pi * i * (2*j+1) / (2 * N )) * np.sqrt(2 / N )\n",
    "    return C\n",
    "def dct2d(img):\n",
    "    \"\"\"\n",
    "    Returns the 2d discrete cosine transformation\n",
    "    \"\"\"\n",
    "    # your code here\n",
    "    n,m=img.shape\n",
    "    c_n=dct_matrix(n)\n",
    "    c_m=dct_matrix(m)\n",
    "    return c_n@img@c_m.T\n",
    "\n",
    "def inv_dct2d(x):\n",
    "    \"\"\"\n",
    "    Returns the 2d inverse discrete cosine transformation\n",
    "    \"\"\"\n",
    "    # your code here\n",
    "    n,m=x.shape\n",
    "    c_n=dct_matrix(n)\n",
    "    c_m=dct_matrix(m)\n",
    "    return c_n.T@x@c_m\n",
    "\n",
    "def chess_board(n=8, field_size=32):\n",
    "    board = np.zeros((n*field_size, n*field_size))\n",
    "    s = field_size\n",
    "    for i in range(n):\n",
    "        for j in range(n):\n",
    "            if (i + j) % 2 == 0:\n",
    "                board[i*s:(i+1)*s, j*s:(j+1)*s] = 1\n",
    "    return board\n",
    "\n",
    "\n",
    "\n",
    "\n",
    "for pic in [chess_board(), rgb2gray(chelsea())/255]:\n",
    "    plt.subplot(121)\n",
    "    plt.imshow(np.real(dct2d(pic)), cmap='gray')\n",
    "    plt.subplot(122)\n",
    "    plt.imshow(np.imag(dct2d(pic)), cmap='gray')\n",
    "    plt.show()"
   ]
  },
  {
   "cell_type": "code",
   "execution_count": null,
   "metadata": {},
   "outputs": [],
   "source": [
    "plt.imshow(dct_matrix(16))"
   ]
  },
  {
   "cell_type": "markdown",
   "metadata": {
    "pycharm": {
     "name": "#%% md\n"
    }
   },
   "source": [
    "# Exercise 2 - 1 Point: (Manual calculation, no code needed.)\n",
    "\n",
    "Given is a signal [5,10,12]. Now you have to mirror the signal as in the lectures (resulting in a signal of length 5) and perform a DFT. Please write down all coefficients in the frequency spectrum. What do you see (one sentence)?\n",
    " the frequency spectrun are 49, -8.24, -3.76, -3.76, -8.24.it's symmetry and real"
   ]
  },
  {
   "cell_type": "markdown",
   "metadata": {},
   "source": [
    "# Exercise 3 - High and Low Pass filter with 2D DCT - 5 Points"
   ]
  },
  {
   "cell_type": "markdown",
   "metadata": {},
   "source": [
    "Implement the `high_pass` and `low_pass` functions which work on the frequency spectrum of a 2D-DCT\n",
    "transformed image. Apply the filters to both the chessboard and cat image and transform the\n",
    "result back into image space.\n",
    "\n",
    "Show the spectrum before and after filtering as well as the resulting images after backtransformation\n",
    "into image space."
   ]
  },
  {
   "cell_type": "code",
   "execution_count": null,
   "metadata": {},
   "outputs": [],
   "source": [
    "def high_pass(img_ft, n):\n",
    "    \"\"\"Removes the low frequencies\"\"\"\n",
    "    # your code here\n",
    "    ft = img_ft.copy()\n",
    "    ft[:n, :n] = 0\n",
    "    ft[-n:, :n] = 0\n",
    "    ft[-n:, -n:] = 0\n",
    "    ft[:n, -n:] = 0\n",
    "    return ft\n",
    "\n",
    "def low_pass(img_ft, n):\n",
    "    \"\"\"Removes the high frequencies\"\"\"\n",
    "    # your code here\n",
    "    ft = img_ft.copy()\n",
    "    ft[n:-n, n:-n] = 0\n",
    "    return ft\n",
    "    \n",
    "def inv_dct_and_plot(img_ft):\n",
    "    plt.imshow(np.real(inv_dct2d(img_ft)), cmap='gray')\n",
    "    plt.show()"
   ]
  },
  {
   "cell_type": "code",
   "execution_count": null,
   "metadata": {},
   "outputs": [],
   "source": [
    "img = rgb2gray(chelsea() / 255)\n",
    "# remove the low frequencies\n",
    "chelsea_high_freq = high_pass(dct2d(img), 12)\n",
    "inv_dct_and_plot(chelsea_high_freq)\n",
    "chess_high_freq = high_pass(dct2d(chess_board()), 12)\n",
    "inv_dct_and_plot(chess_high_freq)"
   ]
  },
  {
   "cell_type": "code",
   "execution_count": null,
   "metadata": {},
   "outputs": [],
   "source": [
    "# remove the high frequencies\n",
    "chelsea_low_freq = low_pass(dct2d(img), 12)\n",
    "inv_dct_and_plot(chelsea_low_freq)\n",
    "chess_low_freq = low_pass(dct2d(chess_board()), 12)\n",
    "inv_dct_and_plot(chess_low_freq)"
   ]
  },
  {
   "cell_type": "code",
   "execution_count": null,
   "metadata": {},
   "outputs": [],
   "source": []
  }
 ],
 "metadata": {
  "kernelspec": {
   "display_name": "Python 3",
   "language": "python",
   "name": "python3"
  },
  "language_info": {
   "codemirror_mode": {
    "name": "ipython",
    "version": 3
   },
   "file_extension": ".py",
   "mimetype": "text/x-python",
   "name": "python",
   "nbconvert_exporter": "python",
   "pygments_lexer": "ipython3",
   "version": "3.7.3"
  }
 },
 "nbformat": 4,
 "nbformat_minor": 1
}
