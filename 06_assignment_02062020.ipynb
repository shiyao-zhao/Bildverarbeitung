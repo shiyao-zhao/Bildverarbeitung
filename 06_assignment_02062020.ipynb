{
 "cells": [
  {
   "cell_type": "markdown",
   "metadata": {},
   "source": [
    "# Image Processing SS 20 - Assignment 06\n",
    "\n",
    "### Deadline is 03.06.2020 at 11:55 am\n",
    "\n",
    "Please solve the assignments together with a partner.\n",
    "I will run every notebook. Make sure the code runs through. Select `Kernel` -> `Restart & Run All` to test it.\n",
    "Please strip the output from the cells, either select `Cell` -> `All Output` -> `Clear` or use the `nb_strip_output.py` script / git hook."
   ]
  },
  {
   "cell_type": "code",
   "execution_count": null,
   "metadata": {},
   "outputs": [],
   "source": [
    "# display the plots inside the notebook\n",
    "%matplotlib inline"
   ]
  },
  {
   "cell_type": "code",
   "execution_count": null,
   "metadata": {},
   "outputs": [],
   "source": [
    "import numpy as np\n",
    "import matplotlib.pyplot as plt\n",
    "import pylab\n",
    "import scipy.io.wavfile\n",
    "from io import BytesIO\n",
    "import urllib.request as urllib2\n",
    "import ssl\n",
    "import IPython.display as adt\n",
    "ssl._create_default_https_context = ssl._create_unverified_context\n",
    "pylab.rcParams['figure.figsize'] = (12, 12)   # This makes the plot bigger"
   ]
  },
  {
   "cell_type": "markdown",
   "metadata": {},
   "source": [
    "# Exercise 1 - Crosscorrelation - 2 Points\n",
    "Implement a function myCrossCorrelation, which takes two discrete functions in the form of arrays as an input and outputs the resulting crosscorrelation function. Now apply your correlation function as follows:\n",
    "a) use as input function 1 an array of 10 random numbers (0-255), function 2 shall be [1], plot the two functions and the result of the crosscorrelation of both.\n",
    "b) use the same function 1 as in a), function b) shall be [1 2 1]. Plot the two functions and the crosscorrelation of both.\n",
    "c) repeat the first two tasks but swap the arguments"
   ]
  },
  {
   "cell_type": "code",
   "execution_count": null,
   "metadata": {
    "pycharm": {
     "name": "#%%\n"
    },
    "scrolled": false
   },
   "outputs": [],
   "source": [
    "def myCrossCorrelation(func1, func2):\n",
    "    # your code here\n",
    "    return np.correlate(func1,func2,'valid')\n",
    "import random\n",
    "funa1=255.0*np.random.rand(10)\n",
    "funa2=np.array([1])\n",
    "plt.figure(1)\n",
    "plt.plot(myCrossCorrelation(funa1, funa2),label='Crosscorrelation')\n",
    "plt.plot(funa1,'*',color='r',label='funa1')\n",
    "plt.title('Exercise 1a)')\n",
    "_=plt.plot(funa2,'+',label='funa2')\n",
    "plt.legend()\n",
    "\n",
    "plt.figure(2)\n",
    "funb2=np.array([1,2,1])\n",
    "plt.plot(myCrossCorrelation(funa1, funb2),label='Crosscorrelation')\n",
    "plt.plot(funa1,'-',color='r',label='funa1')\n",
    "plt.plot(funb2,'+',color='k',label='funb2')\n",
    "plt.title('Exercise 1b)')\n",
    "plt.legend()\n",
    "#funa1=255.0*np.random.rand(10)\n",
    "#funa2=np.array([1])\n",
    "\n",
    "plt.figure(3)\n",
    "plt.plot(myCrossCorrelation(funa2, funa1),label='Crosscorrelation')\n",
    "plt.plot(funa1,'*',color='r',label='funa1')\n",
    "plt.title('Exercise 1c)')\n",
    "_=plt.plot(funa2,'+',label='funa2')\n",
    "plt.legend()\n",
    "\n",
    "plt.figure(4)\n",
    "funb2=np.array([1,2,1])\n",
    "plt.plot(myCrossCorrelation(funb2, funa1),label='Crosscorrelation')\n",
    "plt.plot(funa1,'-',color='r',label='funa1')\n",
    "plt.plot(funb2,'+',color='k',label='funb2')\n",
    "plt.title('Exercise 1c)')\n",
    "plt.legend()"
   ]
  },
  {
   "cell_type": "markdown",
   "metadata": {},
   "source": [
    "# Exercise 2 - Discrete Fourier Transformation - 4 Points\n",
    "Implement the Discrete Fourier Transformation with [Matrix Multiplication](https://en.wikipedia.org/wiki/DFT_matrix)."
   ]
  },
  {
   "cell_type": "code",
   "execution_count": null,
   "metadata": {},
   "outputs": [],
   "source": [
    "def dft_matrix(n):\n",
    "    \"\"\"\n",
    "    Returns the Discrete Fourier Transformation Matrix of order `n`.\n",
    "    \"\"\"\n",
    "    # your code here\n",
    "    l = np.arange(n)\n",
    "    k = l.reshape((n, 1))\n",
    "    W = 1/np.sqrt(n)*np.exp(-2j * np.pi * k * l / n)\n",
    "    return W\n",
    "plt.subplot(121)\n",
    "plt.imshow(dft_matrix(16).real)\n",
    "plt.subplot(122)\n",
    "plt.imshow(dft_matrix(32).real)\n",
    "plt.show()"
   ]
  },
  {
   "cell_type": "markdown",
   "metadata": {},
   "source": [
    "# Exercise 3 - Spectrogram - 4 Points\n",
    "\n",
    "A [spectrogram](https://en.wikipedia.org/wiki/Spectrogram) visualises the intensities of the different frequencies over time. On the x-axis is the time and on the y-axis are the frequencies.\n",
    "Your task is to build the spectrogram of the given audio clip. If you failed to do exercise 2, you can use some library for the fourier transformation."
   ]
  },
  {
   "cell_type": "code",
   "execution_count": null,
   "metadata": {},
   "outputs": [],
   "source": [
    "def load_wav(url):\n",
    "    f = urllib2.urlopen(url)\n",
    "    buffer = BytesIO(f.read())\n",
    "    sample_rate, audio = scipy.io.wavfile.read(buffer)\n",
    "    if len(audio.shape) == 2:\n",
    "        # only select one channel\n",
    "        audio = audio[:, 0]\n",
    "    return sample_rate, audio / audio.max()"
   ]
  },
  {
   "cell_type": "code",
   "execution_count": null,
   "metadata": {},
   "outputs": [],
   "source": [
    "dolphines_url = \"http://www.pmel.noaa.gov/acoustics/whales/sounds/whalewav/akhumphi1x.wav\"\n",
    "# some dolphin sounds\n",
    "sample_rate, audio = load_wav(dolphines_url)"
   ]
  },
  {
   "cell_type": "code",
   "execution_count": null,
   "metadata": {},
   "outputs": [],
   "source": [
    "# listen to the audio\n",
    "adt.Audio(data=audio, rate=sample_rate)"
   ]
  },
  {
   "cell_type": "code",
   "execution_count": null,
   "metadata": {},
   "outputs": [],
   "source": [
    "# plot the values.\n",
    "plt.plot(audio)\n",
    "plt.show()"
   ]
  },
  {
   "cell_type": "code",
   "execution_count": null,
   "metadata": {},
   "outputs": [],
   "source": [
    "from scipy.fftpack import fft,ifft\n",
    "def spectogram(audio, window_size=500):\n",
    "    \"\"\"\n",
    "    Builds the spectogram of the audio clip. Split the audio clip into buckets of `window_size` and \n",
    "    use the discrete fourier transformation to get the intensity of the frequencies.\n",
    "    The entry at position (i, j) of the matrix is the intensity of the i-th frequencies in the j-th bucket.\n",
    "    \"\"\"\n",
    "    # your code here\n",
    "    #spe=np.zeros((window_size, len(audio) // window_size))\n",
    "    Signal=audio[:(len(audio)// window_size)*window_size]\n",
    "    Signal_bucket=Signal.reshape(len(audio)// window_size,window_size)\n",
    "    spe=np.dot(dft_matrix(window_size),Signal_bucket.T)[:window_size//2]\n",
    "    return spe"
   ]
  },
  {
   "cell_type": "code",
   "execution_count": null,
   "metadata": {},
   "outputs": [],
   "source": [
    "specgram = spectogram(audio, window_size=500)"
   ]
  },
  {
   "cell_type": "code",
   "execution_count": null,
   "metadata": {
    "scrolled": true
   },
   "outputs": [],
   "source": [
    "im = plt.imshow(abs(specgram))\n",
    "plt.colorbar(im, fraction=0.02, pad=0.04)\n",
    "plt.show()"
   ]
  },
  {
   "cell_type": "code",
   "execution_count": null,
   "metadata": {},
   "outputs": [],
   "source": [
    "# plot it logarithmically\n",
    "im = plt.imshow(-20*np.log(abs(specgram)+0.0001))  # your code here\n",
    "plt.colorbar(im, fraction=0.02, pad=0.04)\n",
    "plt.show()"
   ]
  },
  {
   "cell_type": "code",
   "execution_count": null,
   "metadata": {},
   "outputs": [],
   "source": [
    "from scipy.fftpack import fft,ifft\n",
    "\n",
    "def spectogram(audio, window_size=500):\n",
    "    \"\"\"\n",
    "    Builds the spectogram of the audio clip. Split the audio clip into buckets of `window_size` and \n",
    "    use the discrete fourier transformation to get the intensity of the frequencies.\n",
    "    The entry at position (i, j) of the matrix is the intensity of the i-th frequencies in the j-th bucket.\n",
    "    \"\"\"\n",
    "    # your code here\n",
    "    #spe=np.zeros((window_size, len(audio) // window_size))\n",
    "    a=audio[:(len(audio)// window_size)*window_size]\n",
    "    a=a.reshape(len(audio)// window_size,window_size)\n",
    "    spe=((abs(fft(a))/a.shape[1]).T)[:window_size // 2]\n",
    "    return spe"
   ]
  },
  {
   "cell_type": "code",
   "execution_count": null,
   "metadata": {},
   "outputs": [],
   "source": [
    "specgram = spectogram(audio, window_size=500)"
   ]
  },
  {
   "cell_type": "code",
   "execution_count": null,
   "metadata": {},
   "outputs": [],
   "source": [
    "im = plt.imshow(specgram)\n",
    "plt.colorbar(im, fraction=0.02, pad=0.04)\n",
    "plt.show()\n",
    "# plot it logarithmically\n",
    "im = plt.imshow(-20*np.log(specgram+0.0001))  # your code here\n",
    "plt.colorbar(im, fraction=0.02, pad=0.04)\n",
    "plt.show()"
   ]
  },
  {
   "cell_type": "code",
   "execution_count": null,
   "metadata": {},
   "outputs": [],
   "source": []
  },
  {
   "cell_type": "code",
   "execution_count": null,
   "metadata": {},
   "outputs": [],
   "source": []
  }
 ],
 "metadata": {
  "kernelspec": {
   "display_name": "Python 3",
   "language": "python",
   "name": "python3"
  },
  "language_info": {
   "codemirror_mode": {
    "name": "ipython",
    "version": 3
   },
   "file_extension": ".py",
   "mimetype": "text/x-python",
   "name": "python",
   "nbconvert_exporter": "python",
   "pygments_lexer": "ipython3",
   "version": "3.7.3"
  }
 },
 "nbformat": 4,
 "nbformat_minor": 1
}
